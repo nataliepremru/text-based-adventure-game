{
 "cells": [
  {
   "cell_type": "code",
   "execution_count": 27,
   "metadata": {},
   "outputs": [
    {
     "name": "stdout",
     "output_type": "stream",
     "text": [
      "Hello, welcome to Pentonville Prison.\n",
      " You are an inmate serving a life sentence for a crime you did you not commit. \n",
      " About 2 hours ago a guard dropped his keys as he passed your cell but it wasn't a good time to leave. \n",
      " The coast is finally clear... this is your chance... you unlock the door...\n",
      " You are stood in the hallway and you can go either left or right. \n",
      " Which do you choose?\n",
      "You cannot move in this direction. Please choose left or right\n"
     ]
    }
   ],
   "source": [
    "## prison break\n",
    "def prison_break():\n",
    "    ## game begins, introduction is shown\n",
    "    print(\"Hello, welcome to Pentonville Prison.\\n You are an inmate serving a life sentence for a crime you did you not commit. \\n About 2 hours ago a guard dropped his keys as he passed your cell but it wasn't a good time to leave. \\n The coast is finally clear... this is your chance... you unlock the door...\\n You are stood in the hallway and you can go either left or right. \\n Which do you choose?\")\n",
    "    ## asking user to chose to go left or right\n",
    "    hallway = input(\"Do you want to go left or right? (l/r/f/b): \").lower()\n",
    "    ## condition for user chosing left\n",
    "    if hallway == \"l\":\n",
    "        print(\"You go left.\\n At the end of the hallway you find a guard dog sleeping.\\n You can either go left, right or forward.\\n Which do you chose?\")\n",
    "        ## asking user to go left, right or forwards\n",
    "        sleeping_dog = input(\"Do you want to go left, right or forward? (l/r/f/b): \").lower()\n",
    "        ## condition for user chosing left\n",
    "        if sleeping_dog == \"l\":\n",
    "            print(\"You go left.\\n You have woken up the dog, game over.\")\n",
    "        ## condtition for user chosing right    \n",
    "        elif sleeping_dog == \"r\":\n",
    "            print(\"You go right.\\n You have entered the toilets where you find your friend, it seems theres nowhere else to go apart from forwards out the window.\\n They offers to give you a lift, what do you decide to do? \")\n",
    "            toilet = input(\"Do you want to go left, right, forward or back? (l/r/f/b): \").lower()\n",
    "            if toilet == \"f\":\n",
    "                print(\"You go forward.\\n You are now in the courtyard, you see a gap in the fence ahead\")\n",
    "                court_yard = input(\"Do you chose to go left or right?\")\n",
    "                if court_yard == \"l\":\n",
    "                    print(\"You go left.\\n You found the hole in the fence and succesfully escaped Pentonville.\\n Congratulations.\")\n",
    "                elif court_yard == \"r\":\n",
    "                    print(\"You go right.\\n You get spotted by a guard on the watch tower, game over.\")\n",
    "                else: print(\"You cannot move in this direction\")\n",
    "            else: print(\"You cannot move in this direction\")        \n",
    "        elif sleeping_dog == \"f\":\n",
    "            print(\"You go forward.\\n You find yourself in the canteen.\\n Luckily no one is here right now.\\n There are three possible doors to take, which one do you chose? \")\n",
    "            canteen = input(\"Do you want to go left, right or forward? (l/r/f/b): \")\n",
    "            if canteen == \"l\":\n",
    "                print(\"You go left. You have found yourself in the guards room... luckily theres no guards in here right now...\\n You find the set of keys for the staff exit.\\n Which door do you take out of the guards room?\")\n",
    "                guards_room = input(\"Which door do you want to take?\")\n",
    "                if guards_room == \"l\" or \"r\":\n",
    "                    print(\"You run into a guard, game over\")\n",
    "                elif guards_room == \"f\":\n",
    "                    print(\"You successfully exit through the staff exit without being caught.\\n Congratulations.\")\n",
    "                else: print(\"You cannot move in this direction\")    \n",
    "            elif canteen == \"r\":\n",
    "                print(\"You go right.\\n You enter the kitchen but the chef is on duty and rings the alarm, game over.\")\n",
    "            elif canteen == \"f\":\n",
    "                print(\"You go forward.\\n You are in a storage cupboard with nowhere else to go, you must turn back.\")   \n",
    "            else: print(\"You cannot move in this direction\")\n",
    "        \n",
    "\n",
    "\n",
    "\n",
    "    ## condition for user chosing right    \n",
    "    elif hallway == \"r\":\n",
    "        print(\"You run into a guard, game over.\") \n",
    "    else: print(\"You cannot move in this direction. Please choose left or right\")   \n",
    "        \n",
    "\n",
    "\n",
    "prison_break()"
   ]
  }
 ],
 "metadata": {
  "kernelspec": {
   "display_name": "Python 3",
   "language": "python",
   "name": "python3"
  },
  "language_info": {
   "codemirror_mode": {
    "name": "ipython",
    "version": 3
   },
   "file_extension": ".py",
   "mimetype": "text/x-python",
   "name": "python",
   "nbconvert_exporter": "python",
   "pygments_lexer": "ipython3",
   "version": "3.13.0"
  }
 },
 "nbformat": 4,
 "nbformat_minor": 2
}
